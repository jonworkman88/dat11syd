{
 "cells": [
  {
   "cell_type": "markdown",
   "metadata": {},
   "source": [
    "# Introduction to Data Science with Python \n",
    "## General Assembly - 18th July 2017 Day 1##\n",
    "\n",
    "This notebook contains exercises for getting started with network analysis in Python. The main topics we will cover in this class are:\n",
    "1. Analysing a network\n",
    "2. Plotting a network"
   ]
  },
  {
   "cell_type": "code",
   "execution_count": 1,
   "metadata": {},
   "outputs": [
    {
     "name": "stdout",
     "output_type": "stream",
     "text": [
      "Requirement already satisfied: networkx in /anaconda3/lib/python3.6/site-packages (2.1)\r\n",
      "Requirement already satisfied: decorator>=4.1.0 in /anaconda3/lib/python3.6/site-packages (from networkx) (4.2.1)\r\n"
     ]
    }
   ],
   "source": [
    "# Install Networkx\n",
    "! pip install networkx "
   ]
  },
  {
   "cell_type": "markdown",
   "metadata": {},
   "source": [
    "## What does the file look like?"
   ]
  },
  {
   "cell_type": "code",
   "execution_count": 6,
   "metadata": {},
   "outputs": [
    {
     "name": "stdout",
     "output_type": "stream",
     "text": [
      "0 1\r\n",
      "0 2\r\n",
      "0 3\r\n",
      "0 4\r\n",
      "0 5\r\n",
      "0 6\r\n",
      "0 7\r\n",
      "0 8\r\n",
      "0 9\r\n",
      "0 10\r\n"
     ]
    }
   ],
   "source": [
    "! head -10 \"/Users/jon/dat11syd/data/facebook_combined.txt\""
   ]
  },
  {
   "cell_type": "code",
   "execution_count": 7,
   "metadata": {},
   "outputs": [],
   "source": [
    "import networkx as nx\n",
    "import matplotlib.pyplot as plt"
   ]
  },
  {
   "cell_type": "code",
   "execution_count": 8,
   "metadata": {},
   "outputs": [],
   "source": [
    "%matplotlib inline"
   ]
  },
  {
   "cell_type": "code",
   "execution_count": 9,
   "metadata": {},
   "outputs": [],
   "source": [
    "G_fb = nx.read_edgelist(\"/Users/jon/dat11syd/data/facebook_combined.txt\", create_using = nx.Graph(), nodetype = int)"
   ]
  },
  {
   "cell_type": "code",
   "execution_count": 10,
   "metadata": {},
   "outputs": [
    {
     "name": "stdout",
     "output_type": "stream",
     "text": [
      "Name: \n",
      "Type: Graph\n",
      "Number of nodes: 4039\n",
      "Number of edges: 88234\n",
      "Average degree:  43.6910\n"
     ]
    }
   ],
   "source": [
    "#Quick snapshot of the Network\n",
    "print( nx.info(G_fb) )"
   ]
  },
  {
   "cell_type": "code",
   "execution_count": 11,
   "metadata": {},
   "outputs": [],
   "source": [
    "#Create network layout for visualizations\n",
    "spring_pos = nx.spring_layout(G_fb)"
   ]
  },
  {
   "cell_type": "code",
   "execution_count": 12,
   "metadata": {},
   "outputs": [
    {
     "data": {
      "image/png": "[encoded data removed]",
      "text/plain": [
       "<Figure size 432x288 with 1 Axes>"
      ]
     },
     "metadata": {},
     "output_type": "display_data"
    }
   ],
   "source": [
    "plt.axis(\"off\")\n",
    "nx.draw_networkx(G_fb, pos = spring_pos, with_labels = True, node_size = 2)"
   ]
  },
  {
   "cell_type": "code",
   "execution_count": 14,
   "metadata": {},
   "outputs": [],
   "source": [
    "from multiprocessing import Pool\n",
    "import itertools"
   ]
  },
  {
   "cell_type": "code",
   "execution_count": 15,
   "metadata": {},
   "outputs": [],
   "source": [
    "def partitions(nodes, n):\n",
    "    \"Partitions the nodes into n subsets\"\n",
    "    nodes_iter = iter(nodes)\n",
    "    while True:\n",
    "        partition = tuple(itertools.islice(nodes_iter,n))\n",
    "        if not partition:\n",
    "            return\n",
    "        yield partition"
   ]
  },
  {
   "cell_type": "code",
   "execution_count": 16,
   "metadata": {},
   "outputs": [],
   "source": [
    "def btwn_pool(G_tuple):\n",
    "    return nx.betweenness_centrality_source(*G_tuple)"
   ]
  },
  {
   "cell_type": "code",
   "execution_count": 17,
   "metadata": {},
   "outputs": [],
   "source": [
    "def between_parallel(G, processes = None):\n",
    "    p = Pool(processes=processes)\n",
    "    part_generator = 4*len(p._pool)\n",
    "    print(part_generator)\n",
    "    print(p._pool)\n",
    "    node_partitions = list(partitions(G.nodes(), int(len(G)/part_generator)))\n",
    "    num_partitions = len(node_partitions)\n",
    " \n",
    "    bet_map = p.map(btwn_pool,\n",
    "                        zip([G]*num_partitions,\n",
    "                        [True]*num_partitions,\n",
    "                        [None]*num_partitions,\n",
    "                        node_partitions))\n",
    " \n",
    "    bt_c = bet_map[0]\n",
    "    for bt in bet_map[1:]:\n",
    "        for n in bt:\n",
    "            bt_c[n] += bt[n]\n",
    "    return bt_c"
   ]
  },
  {
   "cell_type": "code",
   "execution_count": 18,
   "metadata": {},
   "outputs": [
    {
     "name": "stdout",
     "output_type": "stream",
     "text": [
      "32\n",
      "[<ForkProcess(ForkPoolWorker-1, started daemon)>, <ForkProcess(ForkPoolWorker-2, started daemon)>, <ForkProcess(ForkPoolWorker-3, started daemon)>, <ForkProcess(ForkPoolWorker-4, started daemon)>, <ForkProcess(ForkPoolWorker-5, started daemon)>, <ForkProcess(ForkPoolWorker-6, started daemon)>, <ForkProcess(ForkPoolWorker-7, started daemon)>, <ForkProcess(ForkPoolWorker-8, started daemon)>]\n"
     ]
    }
   ],
   "source": [
    "bt = between_parallel(G_fb)\n",
    "top = 10"
   ]
  },
  {
   "cell_type": "code",
   "execution_count": 19,
   "metadata": {},
   "outputs": [
    {
     "data": {
      "text/plain": [
       "[(107, 0.4805180785560149),\n",
       " (1684, 0.33779744973019526),\n",
       " (3437, 0.2361153573589285),\n",
       " (1912, 0.22929533958687437),\n",
       " (1085, 0.14901509211665456),\n",
       " (0, 0.14630592147442872),\n",
       " (698, 0.11533045020561002),\n",
       " (567, 0.09631033121856333),\n",
       " (58, 0.08436020590796531),\n",
       " (428, 0.06430906239323834)]"
      ]
     },
     "execution_count": 19,
     "metadata": {},
     "output_type": "execute_result"
    }
   ],
   "source": [
    "sorted(bt.items(), key = lambda v: -v[1])[:top]"
   ]
  },
  {
   "cell_type": "code",
   "execution_count": 20,
   "metadata": {},
   "outputs": [],
   "source": [
    "circular =nx.circular_layout(G_fb)"
   ]
  },
  {
   "cell_type": "code",
   "execution_count": 21,
   "metadata": {},
   "outputs": [
    {
     "data": {
      "image/png": "[encoded data removed]",
      "text/plain": [
       "<Figure size 432x288 with 1 Axes>"
      ]
     },
     "metadata": {},
     "output_type": "display_data"
    }
   ],
   "source": [
    "max_nodes =  sorted(bt.items(), key = lambda v: -v[1])[:top]\n",
    "bt_values = [5]*len(G_fb.nodes())\n",
    "bt_colors = [0]*len(G_fb.nodes())\n",
    "for max_key, max_val in max_nodes:\n",
    "    bt_values[max_key] = 150\n",
    "    bt_colors[max_key] = 2\n",
    " \n",
    "plt.axis(\"off\")\n",
    "nx.draw_networkx(G_fb, pos = spring_pos , cmap = plt.get_cmap(\"rainbow\"), node_color = bt_colors, node_size = bt_values, with_labels = False)"
   ]
  },
  {
   "cell_type": "markdown",
   "metadata": {},
   "source": [
    "\n",
    "## Extra Tasks##\n",
    "\n",
    "1. Find the k-clique communities in this network\n",
    "2. What is the centrality of node 14?\n",
    "3. Run a hive plot of the data with 2 k-clique communities as the dimensions"
   ]
  },
  {
   "cell_type": "code",
   "execution_count": 25,
   "metadata": {},
   "outputs": [
    {
     "ename": "AttributeError",
     "evalue": "module 'networkx' has no attribute 'k_clique_communities'",
     "output_type": "error",
     "traceback": [
      "\u001b[0;31m---------------------------------------------------------------------------\u001b[0m",
      "\u001b[0;31mAttributeError\u001b[0m                            Traceback (most recent call last)",
      "\u001b[0;32m<ipython-input-25-e87cbcea2bf7>\u001b[0m in \u001b[0;36m<module>\u001b[0;34m()\u001b[0m\n\u001b[1;32m      6\u001b[0m \u001b[0;34m\u001b[0m\u001b[0m\n\u001b[1;32m      7\u001b[0m \u001b[0;34m\u001b[0m\u001b[0m\n\u001b[0;32m----> 8\u001b[0;31m \u001b[0mc\u001b[0m \u001b[0;34m=\u001b[0m \u001b[0mlist\u001b[0m\u001b[0;34m(\u001b[0m\u001b[0mnx\u001b[0m\u001b[0;34m.\u001b[0m\u001b[0mk_clique_communities\u001b[0m\u001b[0;34m(\u001b[0m\u001b[0mG_fb\u001b[0m\u001b[0;34m,\u001b[0m \u001b[0;36m5\u001b[0m\u001b[0;34m)\u001b[0m\u001b[0;34m)\u001b[0m\u001b[0;34m\u001b[0m\u001b[0m\n\u001b[0m\u001b[1;32m      9\u001b[0m \u001b[0mc\u001b[0m\u001b[0;34m\u001b[0m\u001b[0m\n",
      "\u001b[0;31mAttributeError\u001b[0m: module 'networkx' has no attribute 'k_clique_communities'"
     ]
    }
   ],
   "source": [
    "# 1. K Cliques\n",
    "# What is a clique? How do i find one?\n",
    "# Link: https://networkx.github.io/documentation/networkx-1.10/reference/generated/networkx.algorithms.community.kclique.k_clique_communities.html\n",
    "# Hint:\n",
    "import networkx as nx\n",
    "\n",
    "\n",
    "c = list(nx.k_clique_communities(G_fb, 5))\n",
    "c"
   ]
  },
  {
   "cell_type": "code",
   "execution_count": 23,
   "metadata": {},
   "outputs": [
    {
     "ename": "NameError",
     "evalue": "name 'c' is not defined",
     "output_type": "error",
     "traceback": [
      "\u001b[0;31m---------------------------------------------------------------------------\u001b[0m",
      "\u001b[0;31mNameError\u001b[0m                                 Traceback (most recent call last)",
      "\u001b[0;32m<ipython-input-23-2b66fd261ee5>\u001b[0m in \u001b[0;36m<module>\u001b[0;34m()\u001b[0m\n\u001b[0;32m----> 1\u001b[0;31m \u001b[0mc\u001b[0m\u001b[0;34m\u001b[0m\u001b[0m\n\u001b[0m",
      "\u001b[0;31mNameError\u001b[0m: name 'c' is not defined"
     ]
    }
   ],
   "source": [
    "c"
   ]
  },
  {
   "cell_type": "code",
   "execution_count": 24,
   "metadata": {},
   "outputs": [
    {
     "ename": "NameError",
     "evalue": "name 'betweenness_centrality' is not defined",
     "output_type": "error",
     "traceback": [
      "\u001b[0;31m---------------------------------------------------------------------------\u001b[0m",
      "\u001b[0;31mNameError\u001b[0m                                 Traceback (most recent call last)",
      "\u001b[0;32m<ipython-input-24-47f211d21b4d>\u001b[0m in \u001b[0;36m<module>\u001b[0;34m()\u001b[0m\n\u001b[1;32m      2\u001b[0m \u001b[0;31m# Link: https://networkx.github.io/documentation/networkx-1.10/reference/generated/networkx.algorithms.centrality.betweenness_centrality.html#networkx.algorithms.centrality.betweenness_centrality\u001b[0m\u001b[0;34m\u001b[0m\u001b[0;34m\u001b[0m\u001b[0m\n\u001b[1;32m      3\u001b[0m \u001b[0;31m# Hint:\u001b[0m\u001b[0;34m\u001b[0m\u001b[0;34m\u001b[0m\u001b[0m\n\u001b[0;32m----> 4\u001b[0;31m \u001b[0mbetweenness_centrality\u001b[0m\u001b[0;34m(\u001b[0m\u001b[0mG\u001b[0m\u001b[0;34m,\u001b[0m \u001b[0mk\u001b[0m\u001b[0;34m=\u001b[0m\u001b[0;32mNone\u001b[0m\u001b[0;34m,\u001b[0m \u001b[0mnormalized\u001b[0m\u001b[0;34m=\u001b[0m\u001b[0;32mTrue\u001b[0m\u001b[0;34m,\u001b[0m \u001b[0mweight\u001b[0m\u001b[0;34m=\u001b[0m\u001b[0;32mNone\u001b[0m\u001b[0;34m,\u001b[0m \u001b[0mendpoints\u001b[0m\u001b[0;34m=\u001b[0m\u001b[0;32mFalse\u001b[0m\u001b[0;34m,\u001b[0m \u001b[0mseed\u001b[0m\u001b[0;34m=\u001b[0m\u001b[0;32mNone\u001b[0m\u001b[0;34m)\u001b[0m\u001b[0;34m\u001b[0m\u001b[0m\n\u001b[0m\u001b[1;32m      5\u001b[0m \u001b[0;34m\u001b[0m\u001b[0m\n\u001b[1;32m      6\u001b[0m \u001b[0;34m\u001b[0m\u001b[0m\n",
      "\u001b[0;31mNameError\u001b[0m: name 'betweenness_centrality' is not defined"
     ]
    }
   ],
   "source": [
    "# 2. Centrality\n",
    "# Link: https://networkx.github.io/documentation/networkx-1.10/reference/generated/networkx.algorithms.centrality.betweenness_centrality.html#networkx.algorithms.centrality.betweenness_centrality\n",
    "# Hint:\n",
    "betweenness_centrality(G, k=None, normalized=True, weight=None, endpoints=False, seed=None)\n",
    "\n",
    "\n",
    "# 3. Hive Plot\n",
    "# Link: https://networkx.github.io/documentation/networkx-1.10/reference/generated/networkx.drawing.layout.circular_layout.html#networkx.drawing.layout.circular_layout\n",
    "# Hint\n",
    "G=nx.path_graph(4)\n",
    "circular =nx.circular_layout(G)\n",
    "nx.draw_networkx(G_fb, pos = circular, cmap = plt.get_cmap(\"rainbow\"), node_color = bt_colors, node_size = bt_values, with_labels = False)"
   ]
  },
  {
   "cell_type": "code",
   "execution_count": null,
   "metadata": {},
   "outputs": [],
   "source": []
  }
 ],
 "metadata": {
  "kernelspec": {
   "display_name": "Python 3",
   "language": "python",
   "name": "python3"
  },
  "language_info": {
   "codemirror_mode": {
    "name": "ipython",
    "version": 3
   },
   "file_extension": ".py",
   "mimetype": "text/x-python",
   "name": "python",
   "nbconvert_exporter": "python",
   "pygments_lexer": "ipython3",
   "version": "3.6.4"
  }
 },
 "nbformat": 4,
 "nbformat_minor": 1
}
