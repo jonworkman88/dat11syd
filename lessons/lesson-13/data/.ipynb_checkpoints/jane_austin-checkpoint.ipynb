{
 "cells": [
  {
   "cell_type": "code",
   "execution_count": 103,
   "metadata": {},
   "outputs": [],
   "source": [
    "import spacy\n",
    "import textacy"
   ]
  },
  {
   "cell_type": "code",
   "execution_count": 117,
   "metadata": {},
   "outputs": [],
   "source": [
    "import codecs\n",
    "f = codecs.open('austen-emma.txt', encoding='utf-8')"
   ]
  },
  {
   "cell_type": "code",
   "execution_count": null,
   "metadata": {},
   "outputs": [],
   "source": []
  },
  {
   "cell_type": "code",
   "execution_count": 118,
   "metadata": {},
   "outputs": [
    {
     "name": "stdout",
     "output_type": "stream",
     "text": [
      "/anaconda3/bin/python\r\n"
     ]
    }
   ],
   "source": [
    "!which python"
   ]
  },
  {
   "cell_type": "code",
   "execution_count": null,
   "metadata": {},
   "outputs": [],
   "source": []
  },
  {
   "cell_type": "code",
   "execution_count": 119,
   "metadata": {},
   "outputs": [],
   "source": [
    "nlp = spacy.load('en')"
   ]
  },
  {
   "cell_type": "code",
   "execution_count": 120,
   "metadata": {},
   "outputs": [],
   "source": [
    "emma_short = nlp(f.read()[:5000])"
   ]
  },
  {
   "cell_type": "code",
   "execution_count": 121,
   "metadata": {},
   "outputs": [
    {
     "name": "stdout",
     "output_type": "stream",
     "text": [
      "SENTENCE: [Emma by Jane Austen 1816]\n",
      "\n",
      "VOLUME I\n",
      "\n",
      "CHAPTER I\n",
      "\n",
      "\n",
      "Emma Woodhouse, handsome, clever, and rich, with a comfortable home\n",
      "and happy disposition, seemed to unite some of the best blessings\n",
      "of existence; and had lived nearly twenty-one years in the world\n",
      "with very little to distress or vex her.\n",
      "\n",
      "\n",
      "SENTENCE: She was the youngest of the two daughters of a most affectionate,\n",
      "indulgent father; and had, in consequence of her sister's marriage,\n",
      "been mistress of his house from a very early period.  \n",
      "SENTENCE: Her mother\n",
      "had died too long ago for her to have more than an indistinct\n",
      "remembrance of her caresses; and her place had been supplied\n",
      "by an excellent woman as governess, who had fallen little short\n",
      "of a mother in affection.\n",
      "\n",
      "\n",
      "SENTENCE: Sixteen years had Miss Taylor been in Mr. Woodhouse's family,\n",
      "less as a governess than a friend, very fond of both daughters,\n",
      "but particularly of Emma.  \n",
      "SENTENCE: Between _them\n",
      "SENTENCE: _\n",
      "SENTENCE: it was more the intimacy\n",
      "of sisters.  \n",
      "SENTENCE: Even before Miss Taylor had ceased to hold the nominal\n",
      "office of governess, the mildness of her temper had hardly allowed\n",
      "her to impose any restraint; and the shadow of authority being\n",
      "now long passed away, they had been living together as friend and\n",
      "friend very mutually attached, and Emma doing just what she liked;\n",
      "highly esteeming Miss Taylor's judgment, but directed chiefly by\n",
      "her own.\n",
      "\n",
      "\n",
      "SENTENCE: The real evils, indeed, of Emma's situation were the power of having\n",
      "rather too much her own way, and a disposition to think a little\n",
      "too well of herself; these were the disadvantages which threatened\n",
      "alloy to her many enjoyments.  \n",
      "SENTENCE: The danger, however, was at present\n",
      "so unperceived, that they did not by any means rank as misfortunes\n",
      "with her.\n",
      "\n",
      "\n",
      "SENTENCE: Sorrow came--a gentle sorrow--but not at all in the shape of any\n",
      "disagreeable consciousness.--\n",
      "SENTENCE: Miss Taylor married.  \n",
      "SENTENCE: It was Miss\n",
      "Taylor's loss which first brought grief.  \n",
      "SENTENCE: It was on the wedding-day\n",
      "of this beloved friend that Emma first sat in mournful thought\n",
      "of any continuance.  \n",
      "SENTENCE: The wedding over, and the bride-people gone,\n",
      "\n",
      "SENTENCE: her father and herself were left to dine together, with no prospect\n",
      "of a third to cheer a long evening.  \n",
      "SENTENCE: Her father composed himself\n",
      "to sleep after dinner, as usual, and she had then only to sit\n",
      "and think of what she had lost.\n",
      "\n",
      "\n",
      "SENTENCE: The event had every promise of happiness for her friend.  \n",
      "SENTENCE: Mr. Weston\n",
      "was a man of unexceptionable character, easy fortune, suitable age,\n",
      "and pleasant manners; and there was some satisfaction in considering\n",
      "with what self-denying, generous friendship she had always wished\n",
      "and promoted the match; but it was a black morning's work for her.\n",
      "\n",
      "SENTENCE: The want of Miss Taylor would be felt every hour of every day.\n",
      "\n",
      "SENTENCE: She recalled her past kindness--the kindness, the affection of sixteen\n",
      "years--how she had taught and how she had played with her from five\n",
      "years old--how she had devoted all her powers to attach and amuse\n",
      "her in health--and how nursed her through the various illnesses\n",
      "of childhood.  \n",
      "SENTENCE: A large debt of gratitude was owing here; but the\n",
      "intercourse of the last seven years, the equal footing and perfect\n",
      "unreserve which had soon followed Isabella's marriage, on their\n",
      "being left to each other, was yet a dearer, tenderer recollection.\n",
      "\n",
      "SENTENCE: She had been a friend and companion such as few possessed: intelligent,\n",
      "well-informed, useful, gentle, knowing all the ways of the family,\n",
      "interested in all its concerns, and peculiarly interested in herself,\n",
      "in every pleasure, every scheme of hers--one to whom she could speak\n",
      "every thought as it arose, and who had such an affection for her\n",
      "as could never find fault.\n",
      "\n",
      "\n",
      "SENTENCE: How was she to bear the change?--\n",
      "SENTENCE: It was true that her friend was\n",
      "going only half a mile from them; but Emma was aware that great must\n",
      "be the difference between a Mrs. Weston, only half a mile from them,\n",
      "and a Miss Taylor in the house; and with all her advantages,\n",
      "natural and domestic, she was now in great danger of suffering\n",
      "from intellectual solitude.  \n",
      "SENTENCE: She dearly loved her father, but he\n",
      "was no companion for her.  \n",
      "SENTENCE: He could not meet her in conversation,\n",
      "rational or playful.\n",
      "\n",
      "\n",
      "SENTENCE: The evil of the actual disparity in their ages (and Mr. Woodhouse had\n",
      "not married early) was much increased by his constitution and habits;\n",
      "for having been a valetudinarian all his life, without activity\n",
      "of mind or body, he was a much older man in ways than in years;\n",
      "and though everywhere beloved for the friendliness of his heart\n",
      "and his amiable temper, his talents could not have recommended him\n",
      "at any time.\n",
      "\n",
      "\n",
      "SENTENCE: Her sister, though comparatively but little removed by matrimony,\n",
      "being settled in London, only sixteen miles off, was much beyond\n",
      "her daily reach; and many a long October and November evening must\n",
      "be struggled through at Hartfield, before Christmas brought the next\n",
      "visit from Isabella and her husband, and their little children,\n",
      "to fill the house, and give her pleasant society again.\n",
      "\n",
      "\n",
      "SENTENCE: Highbury, the large and populous village, almost amounting to a town,\n",
      "to which Hartfield, in spite of its separate lawn, and shrubberies,\n",
      "and name, did really belong, afforded her no equals.  \n",
      "SENTENCE: The Woodhouses\n",
      "were\n"
     ]
    }
   ],
   "source": [
    "for sentence in emma_short.sents:\n",
    "    print(\"SENTENCE:\",sentence)"
   ]
  },
  {
   "cell_type": "code",
   "execution_count": 122,
   "metadata": {},
   "outputs": [],
   "source": [
    "distinct_words = len(set([token.orth_ for token in emma_short]))\n",
    "passage_length = len(emma_short)"
   ]
  },
  {
   "cell_type": "code",
   "execution_count": 123,
   "metadata": {},
   "outputs": [
    {
     "data": {
      "text/plain": [
       "418"
      ]
     },
     "execution_count": 123,
     "metadata": {},
     "output_type": "execute_result"
    }
   ],
   "source": [
    "distinct_words"
   ]
  },
  {
   "cell_type": "code",
   "execution_count": 124,
   "metadata": {},
   "outputs": [],
   "source": [
    "diversity = 1.0 * distinct_words / passage_length"
   ]
  },
  {
   "cell_type": "code",
   "execution_count": 131,
   "metadata": {},
   "outputs": [
    {
     "data": {
      "text/plain": [
       "0.38034576888080074"
      ]
     },
     "execution_count": 131,
     "metadata": {},
     "output_type": "execute_result"
    }
   ],
   "source": [
    "diversity"
   ]
  },
  {
   "cell_type": "code",
   "execution_count": 132,
   "metadata": {},
   "outputs": [],
   "source": [
    "from textacy import text_utils"
   ]
  },
  {
   "cell_type": "code",
   "execution_count": 133,
   "metadata": {},
   "outputs": [
    {
     "name": "stdout",
     "output_type": "stream",
     "text": [
      "indulgent  father ; and had,\n",
      "gone,\n",
      "her  father  and herse\n",
      "ing.  Her  father  composed \n",
      "loved her  father , but he\n",
      "w\n"
     ]
    }
   ],
   "source": [
    "text_utils.keyword_in_context(str(emma_short.doc), 'father', window_width=10)"
   ]
  },
  {
   "cell_type": "code",
   "execution_count": 135,
   "metadata": {},
   "outputs": [],
   "source": [
    "import textblob"
   ]
  },
  {
   "cell_type": "code",
   "execution_count": 136,
   "metadata": {},
   "outputs": [],
   "source": [
    "blob = textblob.TextBlob(\"This was the most wonderful statement of wall building ever.\")\n",
    "blob2 = textblob.TextBlob(\"What a dreadful problem this drudgery is.\")"
   ]
  },
  {
   "cell_type": "code",
   "execution_count": null,
   "metadata": {},
   "outputs": [],
   "source": []
  },
  {
   "cell_type": "code",
   "execution_count": null,
   "metadata": {
    "collapsed": true
   },
   "outputs": [],
   "source": []
  },
  {
   "cell_type": "code",
   "execution_count": null,
   "metadata": {},
   "outputs": [],
   "source": []
  }
 ],
 "metadata": {
  "kernelspec": {
   "display_name": "Python 3",
   "language": "python",
   "name": "python3"
  },
  "language_info": {
   "codemirror_mode": {
    "name": "ipython",
    "version": 3
   },
   "file_extension": ".py",
   "mimetype": "text/x-python",
   "name": "python",
   "nbconvert_exporter": "python",
   "pygments_lexer": "ipython3",
   "version": "3.6.4"
  }
 },
 "nbformat": 4,
 "nbformat_minor": 2
}
