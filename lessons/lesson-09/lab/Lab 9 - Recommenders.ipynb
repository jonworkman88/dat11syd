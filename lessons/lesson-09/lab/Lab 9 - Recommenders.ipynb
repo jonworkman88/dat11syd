{
 "cells": [
  {
   "cell_type": "markdown",
   "metadata": {},
   "source": [
    "# Lab 9 - Recommendation Engines\n",
    "\n",
    "### MovieLens Data\n",
    "\n",
    "MovieLens data sets were collected by the GroupLens Research Project at the University of Minnesota.\n",
    "\n",
    "This data set consists of: * 100,000 ratings (1-5) from 943 users on 1682 movies. * Each user has rated at least 20 movies. * Simple demographic info for the users (age, gender, occupation, zip)\n",
    "\n",
    "The data was collected through the MovieLens web site (movielens.umn.edu) during the seven-month period from September 19th, 1997 through April 22nd, 1998. This data has been cleaned up - users who had less than 20 ratings or did not have complete demographic information were removed from this data set. Detailed descriptions of the data file can be found at the end of this file.\n",
    "\n",
    "### Tasks\n",
    "\n",
    "1. Load the data into the recommender format\n",
    "2. Build and assess model accuracy\n",
    "3. Make individual recommendations\n",
    "4. Try multiple models and compare accuracy\n",
    "5. Consider how a company could use this"
   ]
  },
  {
   "cell_type": "code",
   "execution_count": 1,
   "metadata": {},
   "outputs": [],
   "source": [
    "# Load Surprise\n",
    "from surprise import SVD\n",
    "from surprise import Dataset\n",
    "from surprise import evaluate, print_perf, model_selection\n",
    "from surprise import Reader\n",
    "from surprise import accuracy\n",
    "\n",
    "# Load others\n",
    "import pandas as pd\n",
    "import numpy as np\n",
    "import matplotlib.pyplot as plt\n",
    "%matplotlib inline"
   ]
  },
  {
   "cell_type": "code",
   "execution_count": 2,
   "metadata": {},
   "outputs": [
    {
     "data": {
      "text/html": [
       "<div>\n",
       "<style scoped>\n",
       "    .dataframe tbody tr th:only-of-type {\n",
       "        vertical-align: middle;\n",
       "    }\n",
       "\n",
       "    .dataframe tbody tr th {\n",
       "        vertical-align: top;\n",
       "    }\n",
       "\n",
       "    .dataframe thead th {\n",
       "        text-align: right;\n",
       "    }\n",
       "</style>\n",
       "<table border=\"1\" class=\"dataframe\">\n",
       "  <thead>\n",
       "    <tr style=\"text-align: right;\">\n",
       "      <th></th>\n",
       "      <th>user</th>\n",
       "      <th>age</th>\n",
       "      <th>sex</th>\n",
       "      <th>occupation</th>\n",
       "      <th>zipcode</th>\n",
       "    </tr>\n",
       "  </thead>\n",
       "  <tbody>\n",
       "    <tr>\n",
       "      <th>count</th>\n",
       "      <td>943</td>\n",
       "      <td>943.000000</td>\n",
       "      <td>943</td>\n",
       "      <td>943</td>\n",
       "      <td>943</td>\n",
       "    </tr>\n",
       "    <tr>\n",
       "      <th>unique</th>\n",
       "      <td>943</td>\n",
       "      <td>NaN</td>\n",
       "      <td>2</td>\n",
       "      <td>21</td>\n",
       "      <td>795</td>\n",
       "    </tr>\n",
       "    <tr>\n",
       "      <th>top</th>\n",
       "      <td>659</td>\n",
       "      <td>NaN</td>\n",
       "      <td>M</td>\n",
       "      <td>student</td>\n",
       "      <td>55414</td>\n",
       "    </tr>\n",
       "    <tr>\n",
       "      <th>freq</th>\n",
       "      <td>1</td>\n",
       "      <td>NaN</td>\n",
       "      <td>670</td>\n",
       "      <td>196</td>\n",
       "      <td>9</td>\n",
       "    </tr>\n",
       "    <tr>\n",
       "      <th>mean</th>\n",
       "      <td>NaN</td>\n",
       "      <td>34.051962</td>\n",
       "      <td>NaN</td>\n",
       "      <td>NaN</td>\n",
       "      <td>NaN</td>\n",
       "    </tr>\n",
       "    <tr>\n",
       "      <th>std</th>\n",
       "      <td>NaN</td>\n",
       "      <td>12.192740</td>\n",
       "      <td>NaN</td>\n",
       "      <td>NaN</td>\n",
       "      <td>NaN</td>\n",
       "    </tr>\n",
       "    <tr>\n",
       "      <th>min</th>\n",
       "      <td>NaN</td>\n",
       "      <td>7.000000</td>\n",
       "      <td>NaN</td>\n",
       "      <td>NaN</td>\n",
       "      <td>NaN</td>\n",
       "    </tr>\n",
       "    <tr>\n",
       "      <th>25%</th>\n",
       "      <td>NaN</td>\n",
       "      <td>25.000000</td>\n",
       "      <td>NaN</td>\n",
       "      <td>NaN</td>\n",
       "      <td>NaN</td>\n",
       "    </tr>\n",
       "    <tr>\n",
       "      <th>50%</th>\n",
       "      <td>NaN</td>\n",
       "      <td>31.000000</td>\n",
       "      <td>NaN</td>\n",
       "      <td>NaN</td>\n",
       "      <td>NaN</td>\n",
       "    </tr>\n",
       "    <tr>\n",
       "      <th>75%</th>\n",
       "      <td>NaN</td>\n",
       "      <td>43.000000</td>\n",
       "      <td>NaN</td>\n",
       "      <td>NaN</td>\n",
       "      <td>NaN</td>\n",
       "    </tr>\n",
       "    <tr>\n",
       "      <th>max</th>\n",
       "      <td>NaN</td>\n",
       "      <td>73.000000</td>\n",
       "      <td>NaN</td>\n",
       "      <td>NaN</td>\n",
       "      <td>NaN</td>\n",
       "    </tr>\n",
       "  </tbody>\n",
       "</table>\n",
       "</div>"
      ],
      "text/plain": [
       "       user         age  sex occupation zipcode\n",
       "count   943  943.000000  943        943     943\n",
       "unique  943         NaN    2         21     795\n",
       "top     659         NaN    M    student   55414\n",
       "freq      1         NaN  670        196       9\n",
       "mean    NaN   34.051962  NaN        NaN     NaN\n",
       "std     NaN   12.192740  NaN        NaN     NaN\n",
       "min     NaN    7.000000  NaN        NaN     NaN\n",
       "25%     NaN   25.000000  NaN        NaN     NaN\n",
       "50%     NaN   31.000000  NaN        NaN     NaN\n",
       "75%     NaN   43.000000  NaN        NaN     NaN\n",
       "max     NaN   73.000000  NaN        NaN     NaN"
      ]
     },
     "execution_count": 2,
     "metadata": {},
     "output_type": "execute_result"
    }
   ],
   "source": [
    "# Exploratory data analysis\n",
    "\n",
    "# users:\n",
    "colnames = ['user', 'age', 'sex', 'occupation', 'zipcode']  #: guesses\n",
    "users = pd.read_csv('../../../data/u.user', sep = '|', header = None, names = colnames)\n",
    "users['user'] = users['user'].astype(str)\n",
    "users['zipcode'] = users['zipcode'].astype(str)\n",
    "users.describe(include='all')"
   ]
  },
  {
   "cell_type": "code",
   "execution_count": 3,
   "metadata": {},
   "outputs": [
    {
     "data": {
      "text/html": [
       "<div>\n",
       "<style scoped>\n",
       "    .dataframe tbody tr th:only-of-type {\n",
       "        vertical-align: middle;\n",
       "    }\n",
       "\n",
       "    .dataframe tbody tr th {\n",
       "        vertical-align: top;\n",
       "    }\n",
       "\n",
       "    .dataframe thead th {\n",
       "        text-align: right;\n",
       "    }\n",
       "</style>\n",
       "<table border=\"1\" class=\"dataframe\">\n",
       "  <thead>\n",
       "    <tr style=\"text-align: right;\">\n",
       "      <th></th>\n",
       "      <th>user</th>\n",
       "      <th>item</th>\n",
       "      <th>rating</th>\n",
       "      <th>timestamp</th>\n",
       "    </tr>\n",
       "  </thead>\n",
       "  <tbody>\n",
       "    <tr>\n",
       "      <th>count</th>\n",
       "      <td>100000.00000</td>\n",
       "      <td>100000.000000</td>\n",
       "      <td>100000.000000</td>\n",
       "      <td>1.000000e+05</td>\n",
       "    </tr>\n",
       "    <tr>\n",
       "      <th>mean</th>\n",
       "      <td>462.48475</td>\n",
       "      <td>425.530130</td>\n",
       "      <td>3.529860</td>\n",
       "      <td>8.835289e+08</td>\n",
       "    </tr>\n",
       "    <tr>\n",
       "      <th>std</th>\n",
       "      <td>266.61442</td>\n",
       "      <td>330.798356</td>\n",
       "      <td>1.125674</td>\n",
       "      <td>5.343856e+06</td>\n",
       "    </tr>\n",
       "    <tr>\n",
       "      <th>min</th>\n",
       "      <td>1.00000</td>\n",
       "      <td>1.000000</td>\n",
       "      <td>1.000000</td>\n",
       "      <td>8.747247e+08</td>\n",
       "    </tr>\n",
       "    <tr>\n",
       "      <th>25%</th>\n",
       "      <td>254.00000</td>\n",
       "      <td>175.000000</td>\n",
       "      <td>3.000000</td>\n",
       "      <td>8.794487e+08</td>\n",
       "    </tr>\n",
       "    <tr>\n",
       "      <th>50%</th>\n",
       "      <td>447.00000</td>\n",
       "      <td>322.000000</td>\n",
       "      <td>4.000000</td>\n",
       "      <td>8.828269e+08</td>\n",
       "    </tr>\n",
       "    <tr>\n",
       "      <th>75%</th>\n",
       "      <td>682.00000</td>\n",
       "      <td>631.000000</td>\n",
       "      <td>4.000000</td>\n",
       "      <td>8.882600e+08</td>\n",
       "    </tr>\n",
       "    <tr>\n",
       "      <th>max</th>\n",
       "      <td>943.00000</td>\n",
       "      <td>1682.000000</td>\n",
       "      <td>5.000000</td>\n",
       "      <td>8.932866e+08</td>\n",
       "    </tr>\n",
       "  </tbody>\n",
       "</table>\n",
       "</div>"
      ],
      "text/plain": [
       "               user           item         rating     timestamp\n",
       "count  100000.00000  100000.000000  100000.000000  1.000000e+05\n",
       "mean      462.48475     425.530130       3.529860  8.835289e+08\n",
       "std       266.61442     330.798356       1.125674  5.343856e+06\n",
       "min         1.00000       1.000000       1.000000  8.747247e+08\n",
       "25%       254.00000     175.000000       3.000000  8.794487e+08\n",
       "50%       447.00000     322.000000       4.000000  8.828269e+08\n",
       "75%       682.00000     631.000000       4.000000  8.882600e+08\n",
       "max       943.00000    1682.000000       5.000000  8.932866e+08"
      ]
     },
     "execution_count": 3,
     "metadata": {},
     "output_type": "execute_result"
    }
   ],
   "source": [
    "# Exploratory data analysis\n",
    "\n",
    "# items:\n",
    "lineformat = 'user item rating timestamp' #: used by Reader class (below)\n",
    "colnames = lineformat.split(' ')\n",
    "items = pd.read_csv('../../../data/u.data', sep = '\\t', header = None, names = colnames)\n",
    "items.describe(include='all')"
   ]
  },
  {
   "cell_type": "markdown",
   "metadata": {},
   "source": [
    "**Task: Plot a histogram of the ratings. Is it skewed? What is the implication?**"
   ]
  },
  {
   "cell_type": "code",
   "execution_count": 4,
   "metadata": {},
   "outputs": [
    {
     "data": {
      "text/plain": [
       "array([[<matplotlib.axes._subplots.AxesSubplot object at 0x10f539f28>]], dtype=object)"
      ]
     },
     "execution_count": 4,
     "metadata": {},
     "output_type": "execute_result"
    },
    {
     "data": {
      "image/png": "[encoded data removed]",
      "text/plain": [
       "<matplotlib.figure.Figure at 0x10bd43f28>"
      ]
     },
     "metadata": {},
     "output_type": "display_data"
    }
   ],
   "source": [
    "items[['rating']].hist(bins=5)"
   ]
  },
  {
   "cell_type": "markdown",
   "metadata": {},
   "source": [
    "**Task: How many ratings did a typical user provide?**"
   ]
  },
  {
   "cell_type": "code",
   "execution_count": 5,
   "metadata": {},
   "outputs": [
    {
     "name": "stdout",
     "output_type": "stream",
     "text": [
      "Median number of ratings per user = 65.0\n"
     ]
    },
    {
     "data": {
      "text/plain": [
       "<matplotlib.axes._subplots.AxesSubplot at 0x10f51a0f0>"
      ]
     },
     "execution_count": 5,
     "metadata": {},
     "output_type": "execute_result"
    },
    {
     "data": {
      "image/png": "[encoded data removed]",
      "text/plain": [
       "<matplotlib.figure.Figure at 0x10f556400>"
      ]
     },
     "metadata": {},
     "output_type": "display_data"
    }
   ],
   "source": [
    "byuser = items.groupby('user').agg({'item': len})\n",
    "# or:\n",
    "byuser = items.groupby('user').item.nunique()  # creates a 1D series\n",
    "print(\"Median number of ratings per user = {}\".format(byuser.median()))\n",
    "byuser.hist(bins=30)"
   ]
  },
  {
   "cell_type": "code",
   "execution_count": 6,
   "metadata": {},
   "outputs": [],
   "source": [
    "# 1. Load the data into the recommendation format\n",
    "\n",
    "# Nb. The object that will be produced for training the recommender is not a data frame\n",
    "# and doesn't have a head() method\n",
    "# (which is why we used read_csv() above so that we could look at the raw data).\n",
    "#\n",
    "# load the dataset from the library that contains the recommender algo,\n",
    "# using its Dataset.load_from_file method and Reader class:\n",
    "reader = Reader(line_format = lineformat, sep = '\\t')\n",
    "#data = Dataset.load_from_file(file_path = '../../data/u.data', reader=reader)\n",
    "data = Dataset.load_from_file(file_path = '../../../data/u.data', reader=reader)\n"
   ]
  },
  {
   "cell_type": "code",
   "execution_count": 7,
   "metadata": {},
   "outputs": [],
   "source": [
    "?SVD"
   ]
  },
  {
   "cell_type": "code",
   "execution_count": 22,
   "metadata": {},
   "outputs": [
    {
     "name": "stdout",
     "output_type": "stream",
     "text": [
      "Evaluating RMSE, MAE of algorithm SVD on 5 split(s).\n",
      "\n",
      "                  Fold 1  Fold 2  Fold 3  Fold 4  Fold 5  Mean    Std     \n",
      "RMSE (testset)    0.9406  0.9370  0.9406  0.9322  0.9333  0.9367  0.0035  \n",
      "MAE (testset)     0.7447  0.7387  0.7402  0.7338  0.7348  0.7384  0.0039  \n",
      "Fit time          5.54    5.56    5.61    5.60    5.35    5.53    0.09    \n",
      "Test time         0.17    0.13    0.12    0.13    0.13    0.13    0.02    \n"
     ]
    }
   ],
   "source": [
    "# 2. Build and assess model accuracy\n",
    "\n",
    "train_set, test_set = model_selection.train_test_split(data, test_size=.25)\n",
    "\n",
    "# We'll use the famous SVD algorithm:\n",
    "algo = SVD()\n",
    "\n",
    "# Evaluate performances of our algorithm on the dataset:\n",
    "perf = model_selection.cross_validate(algo, data, measures=['RMSE', 'MAE'], cv=5, verbose=True)"
   ]
  },
  {
   "cell_type": "code",
   "execution_count": 23,
   "metadata": {},
   "outputs": [
    {
     "data": {
      "text/plain": [
       "<surprise.prediction_algorithms.matrix_factorization.SVD at 0x11d6ae240>"
      ]
     },
     "execution_count": 23,
     "metadata": {},
     "output_type": "execute_result"
    }
   ],
   "source": [
    "algo.fit(train_set)"
   ]
  },
  {
   "cell_type": "code",
   "execution_count": 24,
   "metadata": {},
   "outputs": [
    {
     "name": "stdout",
     "output_type": "stream",
     "text": [
      "RMSE: 0.9436\n"
     ]
    },
    {
     "data": {
      "text/plain": [
       "0.94359262828505697"
      ]
     },
     "execution_count": 24,
     "metadata": {},
     "output_type": "execute_result"
    }
   ],
   "source": [
    "predictions = algo.test(test_set)\n",
    "\n",
    "# Then compute RMSE\n",
    "accuracy.rmse(predictions)"
   ]
  },
  {
   "cell_type": "code",
   "execution_count": 25,
   "metadata": {},
   "outputs": [
    {
     "name": "stdout",
     "output_type": "stream",
     "text": [
      "user: 196        item: 305        r_ui = 2.00   est = 3.68   {'was_impossible': False}\n"
     ]
    }
   ],
   "source": [
    "# 3. Make individual recommendations\n",
    "\n",
    "puid = str(196)  # raw user id (as in the ratings file)\n",
    "piid = str(305)  # raw item id (as in the ratings file)\n",
    "\n",
    "# get a prediction for specific users and items:\n",
    "pred = algo.predict(puid, piid, r_ui=2, verbose=True)"
   ]
  },
  {
   "cell_type": "code",
   "execution_count": 26,
   "metadata": {},
   "outputs": [
    {
     "name": "stdout",
     "output_type": "stream",
     "text": [
      "      user  item  rating  timestamp\n",
      "8      305   451       3  886324817\n",
      "147    305   427       5  886323090\n",
      "173    305   117       2  886324028\n",
      "215    305   471       4  886323648\n",
      "237    305   214       2  886323068\n",
      "382    305   425       4  886324486\n",
      "564    305    71       3  886323684\n",
      "837    305   654       4  886323937\n",
      "893    305   512       4  886323525\n",
      "1291   305   483       5  886323068\n",
      "1358   305    79       3  886324276\n",
      "1729   305    11       1  886323237\n",
      "1789   305    50       5  886321799\n",
      "2004   305   189       5  886323303\n",
      "2184   305   187       4  886323189\n",
      "2275   305    61       4  886323378\n",
      "2305   305   960       1  886324362\n",
      "2405   305   923       5  886323237\n",
      "2423   305   529       5  886324097\n",
      "2661   305   186       4  886323902\n",
      "2707   305   347       3  886308111\n",
      "2911   305   203       4  886323839\n",
      "2994   305    15       1  886322796\n",
      "3036   305    87       1  886323153\n",
      "3076   305   238       3  886323617\n",
      "3140   305   209       5  886322966\n",
      "3414   305   679       3  886324792\n",
      "3487   305    56       1  886323068\n",
      "3753   305   131       3  886323440\n",
      "3769   305   216       5  886323563\n",
      "...    ...   ...     ...        ...\n",
      "67507  305   326       2  886307917\n",
      "67940  305   475       4  886324199\n",
      "69194  305    86       4  886323757\n",
      "69451  305   428       3  886323902\n",
      "70212  305   464       3  886322796\n",
      "70259  305    13       3  886323998\n",
      "74841  305    49       3  886324962\n",
      "76282  305   505       3  886323006\n",
      "76881  305   462       5  886323525\n",
      "78285  305    60       3  886324097\n",
      "78838  305   228       2  886323998\n",
      "79892  305    59       3  886322758\n",
      "79954  305   469       2  886323757\n",
      "81723  305    66       3  886325023\n",
      "81841  305   663       3  886323591\n",
      "87268  305   865       3  886323563\n",
      "88075  305   650       4  886323406\n",
      "88321  305    45       5  886323275\n",
      "88491  305   961       3  886323440\n",
      "88718  305   222       2  886323378\n",
      "92940  305   311       5  886307971\n",
      "93493  305   485       2  886323648\n",
      "94480  305    69       3  886324299\n",
      "95720  305   242       5  886307828\n",
      "96557  305   127       5  886322412\n",
      "96718  305    97       4  886322560\n",
      "97043  305   173       3  886322670\n",
      "97372  305   566       3  886324486\n",
      "97694  305   484       3  886322838\n",
      "99247  305  1286       5  886324687\n",
      "\n",
      "[222 rows x 4 columns]\n"
     ]
    }
   ],
   "source": [
    "# We can look up the movie that we just tested by its index:\n",
    "#colnames = ['user', 'name']\n",
    "#items = pd.read_csv('u.item', sep = '|', header = None, names = colnames, usecols = [0, 1])\n",
    "#print(items.iloc[0])\n",
    "items['user'] = items['user'].astype(str)\n",
    "print(items[items.user == piid])"
   ]
  },
  {
   "cell_type": "code",
   "execution_count": 27,
   "metadata": {},
   "outputs": [
    {
     "name": "stdout",
     "output_type": "stream",
     "text": [
      "        Fold 1  Fold 2  Fold 3  Fold 4  Fold 5  Mean    \n",
      "TEST_RMSE0.9662  0.9571  0.9677  0.9728  0.9677  0.9663  \n",
      "TEST_MAE0.7597  0.7526  0.7624  0.7647  0.7608  0.7600  \n",
      "FIT_TIME5.5537  5.6283  5.6362  5.4883  5.4972  5.5608  \n",
      "TEST_TIME0.1489  0.1154  0.1147  0.1106  0.0984  0.1176  \n"
     ]
    }
   ],
   "source": [
    "# 4. Try multiple models and compare accuracy\n",
    "\n",
    "# Try at least 3 of the models mentioned below:\n",
    "#random_pred.NormalPredictor    Algorithm predicting a random rating based on the distribution of the training set, which is assumed to be normal.\n",
    "# baseline_only.BaselineOnly    Algorithm predicting the baseline estimate for given user and item.\n",
    "# knns.KNNBasic    A basic collaborative filtering algorithm.\n",
    "# knns.KNNWithMeans    A basic collaborative filtering algorithm, taking into account the mean ratings of each user.\n",
    "# knns.KNNBaseline    A basic collaborative filtering algorithm taking into account a baseline rating.\n",
    "# matrix_factorization.SVD    The famous SVD algorithm, as popularized by Simon Funk during the Netflix Prize.\n",
    "# matrix_factorization.SVDpp    The SVD++ algorithm, an extension of SVD taking into account implicit ratings.\n",
    "# matrix_factorization.NMF    A collaborative filtering algorithm based on Non-negative Matrix Factorization.\n",
    "# slope_one.SlopeOne    A simple yet accurate collaborative filtering algorithm.\n",
    "# co_clustering.CoClustering    A collaborative filtering algorithm based on co-clustering.\n",
    "\n",
    "\n",
    "# Here's how to run Non-Negative Matrix Factorisiation\n",
    "from surprise import NMF\n",
    "\n",
    "algo.NMF = NMF()\n",
    "perf = model_selection.cross_validate(algo.NMF, data, measures=['RMSE', 'MAE'])\n",
    "print_perf(perf)"
   ]
  },
  {
   "cell_type": "markdown",
   "metadata": {},
   "source": [
    "##### 5. Consider how a company could use this\n",
    "\n",
    "How might a company use a recommendation like this in practice? Write a few paragraphs covering how they could use the above covering:\n",
    "- How the algorithm works?\n",
    "- What data would be used?\n",
    "- How would we know if it's working?\n",
    "- What is the benefit of using an algorithm over this over just recommending the most popular films overall?"
   ]
  }
 ],
 "metadata": {
  "anaconda-cloud": {},
  "kernelspec": {
   "display_name": "Python 3",
   "language": "python",
   "name": "python3"
  },
  "language_info": {
   "codemirror_mode": {
    "name": "ipython",
    "version": 3
   },
   "file_extension": ".py",
   "mimetype": "text/x-python",
   "name": "python",
   "nbconvert_exporter": "python",
   "pygments_lexer": "ipython3",
   "version": "3.6.4"
  }
 },
 "nbformat": 4,
 "nbformat_minor": 1
}
