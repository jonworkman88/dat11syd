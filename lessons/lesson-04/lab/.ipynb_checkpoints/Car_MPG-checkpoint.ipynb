{
 "cells": [
  {
   "cell_type": "code",
   "execution_count": 93,
   "metadata": {},
   "outputs": [],
   "source": [
    "# imports\n",
    "import pandas as pd\n",
    "import matplotlib.pyplot as plt\n",
    "import numpy as np\n",
    "\n",
    "# this allows plots to appear directly in the notebook\n",
    "%matplotlib inline"
   ]
  },
  {
   "cell_type": "code",
   "execution_count": 94,
   "metadata": {},
   "outputs": [
    {
     "data": {
      "text/html": [
       "<div>\n",
       "<style scoped>\n",
       "    .dataframe tbody tr th:only-of-type {\n",
       "        vertical-align: middle;\n",
       "    }\n",
       "\n",
       "    .dataframe tbody tr th {\n",
       "        vertical-align: top;\n",
       "    }\n",
       "\n",
       "    .dataframe thead th {\n",
       "        text-align: right;\n",
       "    }\n",
       "</style>\n",
       "<table border=\"1\" class=\"dataframe\">\n",
       "  <thead>\n",
       "    <tr style=\"text-align: right;\">\n",
       "      <th></th>\n",
       "      <th>year</th>\n",
       "      <th>month</th>\n",
       "      <th>day</th>\n",
       "      <th>hour</th>\n",
       "      <th>pm2.5</th>\n",
       "      <th>DEWP</th>\n",
       "      <th>TEMP</th>\n",
       "      <th>PRES</th>\n",
       "      <th>cbwd</th>\n",
       "      <th>Iws</th>\n",
       "      <th>Is</th>\n",
       "      <th>Ir</th>\n",
       "    </tr>\n",
       "    <tr>\n",
       "      <th>No</th>\n",
       "      <th></th>\n",
       "      <th></th>\n",
       "      <th></th>\n",
       "      <th></th>\n",
       "      <th></th>\n",
       "      <th></th>\n",
       "      <th></th>\n",
       "      <th></th>\n",
       "      <th></th>\n",
       "      <th></th>\n",
       "      <th></th>\n",
       "      <th></th>\n",
       "    </tr>\n",
       "  </thead>\n",
       "  <tbody>\n",
       "    <tr>\n",
       "      <th>1</th>\n",
       "      <td>2010</td>\n",
       "      <td>1</td>\n",
       "      <td>1</td>\n",
       "      <td>0</td>\n",
       "      <td>NaN</td>\n",
       "      <td>-21</td>\n",
       "      <td>-11.0</td>\n",
       "      <td>1021.0</td>\n",
       "      <td>NW</td>\n",
       "      <td>1.79</td>\n",
       "      <td>0</td>\n",
       "      <td>0</td>\n",
       "    </tr>\n",
       "    <tr>\n",
       "      <th>2</th>\n",
       "      <td>2010</td>\n",
       "      <td>1</td>\n",
       "      <td>1</td>\n",
       "      <td>1</td>\n",
       "      <td>NaN</td>\n",
       "      <td>-21</td>\n",
       "      <td>-12.0</td>\n",
       "      <td>1020.0</td>\n",
       "      <td>NW</td>\n",
       "      <td>4.92</td>\n",
       "      <td>0</td>\n",
       "      <td>0</td>\n",
       "    </tr>\n",
       "    <tr>\n",
       "      <th>3</th>\n",
       "      <td>2010</td>\n",
       "      <td>1</td>\n",
       "      <td>1</td>\n",
       "      <td>2</td>\n",
       "      <td>NaN</td>\n",
       "      <td>-21</td>\n",
       "      <td>-11.0</td>\n",
       "      <td>1019.0</td>\n",
       "      <td>NW</td>\n",
       "      <td>6.71</td>\n",
       "      <td>0</td>\n",
       "      <td>0</td>\n",
       "    </tr>\n",
       "    <tr>\n",
       "      <th>4</th>\n",
       "      <td>2010</td>\n",
       "      <td>1</td>\n",
       "      <td>1</td>\n",
       "      <td>3</td>\n",
       "      <td>NaN</td>\n",
       "      <td>-21</td>\n",
       "      <td>-14.0</td>\n",
       "      <td>1019.0</td>\n",
       "      <td>NW</td>\n",
       "      <td>9.84</td>\n",
       "      <td>0</td>\n",
       "      <td>0</td>\n",
       "    </tr>\n",
       "    <tr>\n",
       "      <th>5</th>\n",
       "      <td>2010</td>\n",
       "      <td>1</td>\n",
       "      <td>1</td>\n",
       "      <td>4</td>\n",
       "      <td>NaN</td>\n",
       "      <td>-20</td>\n",
       "      <td>-12.0</td>\n",
       "      <td>1018.0</td>\n",
       "      <td>NW</td>\n",
       "      <td>12.97</td>\n",
       "      <td>0</td>\n",
       "      <td>0</td>\n",
       "    </tr>\n",
       "  </tbody>\n",
       "</table>\n",
       "</div>"
      ],
      "text/plain": [
       "    year  month  day  hour  pm2.5  DEWP  TEMP    PRES cbwd    Iws  Is  Ir\n",
       "No                                                                       \n",
       "1   2010      1    1     0    NaN   -21 -11.0  1021.0   NW   1.79   0   0\n",
       "2   2010      1    1     1    NaN   -21 -12.0  1020.0   NW   4.92   0   0\n",
       "3   2010      1    1     2    NaN   -21 -11.0  1019.0   NW   6.71   0   0\n",
       "4   2010      1    1     3    NaN   -21 -14.0  1019.0   NW   9.84   0   0\n",
       "5   2010      1    1     4    NaN   -20 -12.0  1018.0   NW  12.97   0   0"
      ]
     },
     "execution_count": 94,
     "metadata": {},
     "output_type": "execute_result"
    }
   ],
   "source": [
    "# read data into a DataFrame\n",
    "data = pd.read_csv('beijing_data.csv', index_col=0)\n",
    "data.head()"
   ]
  },
  {
   "cell_type": "code",
   "execution_count": 95,
   "metadata": {},
   "outputs": [],
   "source": [
    "data = data[np.isfinite(data['pm2.5'])]"
   ]
  },
  {
   "cell_type": "markdown",
   "metadata": {},
   "source": [
    "Attribute Information:\n",
    "\n",
    "No: row number\n",
    "\n",
    "year: year of data in this row\n",
    "\n",
    "month: month of data in this row\n",
    "\n",
    "day: day of data in this row\n",
    "\n",
    "hour: hour of data in this row\n",
    "\n",
    "pm2.5: PM2.5 concentration (ug/m^3)\n",
    "\n",
    "DEWP: Dew Point (â„ƒ)\n",
    "\n",
    "TEMP: Temperature (â„ƒ)\n",
    "\n",
    "PRES: Pressure (hPa)\n",
    "\n",
    "cbwd: Combined wind direction\n",
    "\n",
    "Iws: Cumulated wind speed (m/s)\n",
    "\n",
    "Is: Cumulated hours of snow\n",
    "\n",
    "Ir: Cumulated hours of rain\n"
   ]
  },
  {
   "cell_type": "code",
   "execution_count": 96,
   "metadata": {},
   "outputs": [],
   "source": [
    "data.rename(columns={'pm2.5':'pm25'}, inplace=True)"
   ]
  },
  {
   "cell_type": "code",
   "execution_count": 97,
   "metadata": {},
   "outputs": [
    {
     "data": {
      "text/plain": [
       "<matplotlib.axes._subplots.AxesSubplot at 0x1a1a6e1e10>"
      ]
     },
     "execution_count": 97,
     "metadata": {},
     "output_type": "execute_result"
    },
    {
     "data": {
      "image/png": "[encoded data removed]",
      "text/plain": [
       "<matplotlib.figure.Figure at 0x1a1b8302e8>"
      ]
     },
     "metadata": {},
     "output_type": "display_data"
    }
   ],
   "source": [
    "data.shape# visualize the relationship between the features and the response using scatterplots\n",
    "fig, axs = plt.subplots(1, 3, sharey=True)\n",
    "data.plot(kind='scatter', x='DEWP', y='pm25', ax=axs[0], figsize=(10, 5))\n",
    "data.plot(kind='scatter', x='TEMP', y='pm25', ax=axs[1])\n",
    "data.plot(kind='scatter', x='PRES', y='pm25', ax=axs[2])\n"
   ]
  },
  {
   "cell_type": "code",
   "execution_count": 135,
   "metadata": {},
   "outputs": [
    {
     "data": {
      "text/plain": [
       "Intercept    109.584514\n",
       "Iws           -0.459690\n",
       "dtype: float64"
      ]
     },
     "execution_count": 135,
     "metadata": {},
     "output_type": "execute_result"
    }
   ],
   "source": [
    "# this is the standard import if you're using \"formula notation\" (similar to R)\n",
    "import statsmodels.formula.api as smf\n",
    "\n",
    "# create a fitted model in one line\n",
    "lm = smf.ols(formula='pm25 ~ Iws', data=data).fit()\n",
    "\n",
    "# print the coefficients\n",
    "lm.params"
   ]
  },
  {
   "cell_type": "code",
   "execution_count": null,
   "metadata": {},
   "outputs": [],
   "source": []
  },
  {
   "cell_type": "code",
   "execution_count": 136,
   "metadata": {},
   "outputs": [
    {
     "data": {
      "text/plain": [
       "107.632329"
      ]
     },
     "execution_count": 136,
     "metadata": {},
     "output_type": "execute_result"
    }
   ],
   "source": [
    "# manually calculate the prediction\n",
    "96.699839 + 1.093249*10"
   ]
  },
  {
   "cell_type": "code",
   "execution_count": 137,
   "metadata": {},
   "outputs": [
    {
     "data": {
      "text/html": [
       "<div>\n",
       "<style scoped>\n",
       "    .dataframe tbody tr th:only-of-type {\n",
       "        vertical-align: middle;\n",
       "    }\n",
       "\n",
       "    .dataframe tbody tr th {\n",
       "        vertical-align: top;\n",
       "    }\n",
       "\n",
       "    .dataframe thead th {\n",
       "        text-align: right;\n",
       "    }\n",
       "</style>\n",
       "<table border=\"1\" class=\"dataframe\">\n",
       "  <thead>\n",
       "    <tr style=\"text-align: right;\">\n",
       "      <th></th>\n",
       "      <th>Iws</th>\n",
       "    </tr>\n",
       "  </thead>\n",
       "  <tbody>\n",
       "    <tr>\n",
       "      <th>0</th>\n",
       "      <td>10</td>\n",
       "    </tr>\n",
       "  </tbody>\n",
       "</table>\n",
       "</div>"
      ],
      "text/plain": [
       "   Iws\n",
       "0   10"
      ]
     },
     "execution_count": 137,
     "metadata": {},
     "output_type": "execute_result"
    }
   ],
   "source": [
    "# you have to create a DataFrame since the Statsmodels formula interface expects it\n",
    "X_new = pd.DataFrame({'Iws': [10]})\n",
    "X_new.head()"
   ]
  },
  {
   "cell_type": "code",
   "execution_count": 138,
   "metadata": {},
   "outputs": [
    {
     "data": {
      "text/plain": [
       "0    104.987616\n",
       "dtype: float64"
      ]
     },
     "execution_count": 138,
     "metadata": {},
     "output_type": "execute_result"
    }
   ],
   "source": [
    "# use the model to make predictions on a new value\n",
    "lm.predict(X_new)"
   ]
  },
  {
   "cell_type": "code",
   "execution_count": 139,
   "metadata": {},
   "outputs": [
    {
     "data": {
      "text/html": [
       "<div>\n",
       "<style scoped>\n",
       "    .dataframe tbody tr th:only-of-type {\n",
       "        vertical-align: middle;\n",
       "    }\n",
       "\n",
       "    .dataframe tbody tr th {\n",
       "        vertical-align: top;\n",
       "    }\n",
       "\n",
       "    .dataframe thead th {\n",
       "        text-align: right;\n",
       "    }\n",
       "</style>\n",
       "<table border=\"1\" class=\"dataframe\">\n",
       "  <thead>\n",
       "    <tr style=\"text-align: right;\">\n",
       "      <th></th>\n",
       "      <th>Iws</th>\n",
       "    </tr>\n",
       "  </thead>\n",
       "  <tbody>\n",
       "    <tr>\n",
       "      <th>0</th>\n",
       "      <td>0.45</td>\n",
       "    </tr>\n",
       "    <tr>\n",
       "      <th>1</th>\n",
       "      <td>565.49</td>\n",
       "    </tr>\n",
       "  </tbody>\n",
       "</table>\n",
       "</div>"
      ],
      "text/plain": [
       "      Iws\n",
       "0    0.45\n",
       "1  565.49"
      ]
     },
     "execution_count": 139,
     "metadata": {},
     "output_type": "execute_result"
    }
   ],
   "source": [
    "# create a DataFrame with the minimum and maximum values of TV\n",
    "X_new = pd.DataFrame({'Iws': [data.Iws.min(), data.Iws.max()]})\n",
    "X_new.head()"
   ]
  },
  {
   "cell_type": "code",
   "execution_count": 140,
   "metadata": {},
   "outputs": [
    {
     "data": {
      "text/plain": [
       "0    109.377654\n",
       "1   -150.365449\n",
       "dtype: float64"
      ]
     },
     "execution_count": 140,
     "metadata": {},
     "output_type": "execute_result"
    }
   ],
   "source": [
    "# make predictions for those x values and store them\n",
    "preds = lm.predict(X_new)\n",
    "preds"
   ]
  },
  {
   "cell_type": "code",
   "execution_count": 141,
   "metadata": {},
   "outputs": [
    {
     "data": {
      "text/plain": [
       "[<matplotlib.lines.Line2D at 0x1a1a561f60>]"
      ]
     },
     "execution_count": 141,
     "metadata": {},
     "output_type": "execute_result"
    },
    {
     "data": {
      "image/png": "[encoded data removed]",
      "text/plain": [
       "<matplotlib.figure.Figure at 0x1a1a57e828>"
      ]
     },
     "metadata": {},
     "output_type": "display_data"
    }
   ],
   "source": [
    "# first, plot the observed data\n",
    "data.plot(kind='scatter', x='Iws', y='pm25')\n",
    "\n",
    "# then, plot the least squares line\n",
    "plt.plot(X_new, preds, c='red', linewidth=2)"
   ]
  },
  {
   "cell_type": "code",
   "execution_count": 142,
   "metadata": {},
   "outputs": [
    {
     "data": {
      "text/html": [
       "<div>\n",
       "<style scoped>\n",
       "    .dataframe tbody tr th:only-of-type {\n",
       "        vertical-align: middle;\n",
       "    }\n",
       "\n",
       "    .dataframe tbody tr th {\n",
       "        vertical-align: top;\n",
       "    }\n",
       "\n",
       "    .dataframe thead th {\n",
       "        text-align: right;\n",
       "    }\n",
       "</style>\n",
       "<table border=\"1\" class=\"dataframe\">\n",
       "  <thead>\n",
       "    <tr style=\"text-align: right;\">\n",
       "      <th></th>\n",
       "      <th>0</th>\n",
       "      <th>1</th>\n",
       "    </tr>\n",
       "  </thead>\n",
       "  <tbody>\n",
       "    <tr>\n",
       "      <th>Intercept</th>\n",
       "      <td>108.63530</td>\n",
       "      <td>110.533728</td>\n",
       "    </tr>\n",
       "    <tr>\n",
       "      <th>Iws</th>\n",
       "      <td>-0.47693</td>\n",
       "      <td>-0.442450</td>\n",
       "    </tr>\n",
       "  </tbody>\n",
       "</table>\n",
       "</div>"
      ],
      "text/plain": [
       "                   0           1\n",
       "Intercept  108.63530  110.533728\n",
       "Iws         -0.47693   -0.442450"
      ]
     },
     "execution_count": 142,
     "metadata": {},
     "output_type": "execute_result"
    }
   ],
   "source": [
    "# print the confidence intervals for the model coefficients\n",
    "lm.conf_int()"
   ]
  },
  {
   "cell_type": "code",
   "execution_count": 143,
   "metadata": {},
   "outputs": [
    {
     "data": {
      "text/html": [
       "<div>\n",
       "<style scoped>\n",
       "    .dataframe tbody tr th:only-of-type {\n",
       "        vertical-align: middle;\n",
       "    }\n",
       "\n",
       "    .dataframe tbody tr th {\n",
       "        vertical-align: top;\n",
       "    }\n",
       "\n",
       "    .dataframe thead th {\n",
       "        text-align: right;\n",
       "    }\n",
       "</style>\n",
       "<table border=\"1\" class=\"dataframe\">\n",
       "  <thead>\n",
       "    <tr style=\"text-align: right;\">\n",
       "      <th></th>\n",
       "      <th>year</th>\n",
       "      <th>month</th>\n",
       "      <th>day</th>\n",
       "      <th>hour</th>\n",
       "      <th>pm25</th>\n",
       "      <th>DEWP</th>\n",
       "      <th>TEMP</th>\n",
       "      <th>PRES</th>\n",
       "      <th>Iws</th>\n",
       "      <th>Is</th>\n",
       "      <th>Ir</th>\n",
       "    </tr>\n",
       "  </thead>\n",
       "  <tbody>\n",
       "    <tr>\n",
       "      <th>year</th>\n",
       "      <td>1.000000</td>\n",
       "      <td>-0.002452</td>\n",
       "      <td>-0.000103</td>\n",
       "      <td>0.000200</td>\n",
       "      <td>-0.014690</td>\n",
       "      <td>0.007298</td>\n",
       "      <td>0.055656</td>\n",
       "      <td>-0.013466</td>\n",
       "      <td>-0.068278</td>\n",
       "      <td>-0.019549</td>\n",
       "      <td>-0.026298</td>\n",
       "    </tr>\n",
       "    <tr>\n",
       "      <th>month</th>\n",
       "      <td>-0.002452</td>\n",
       "      <td>1.000000</td>\n",
       "      <td>0.006901</td>\n",
       "      <td>-0.000543</td>\n",
       "      <td>-0.024069</td>\n",
       "      <td>0.234492</td>\n",
       "      <td>0.172135</td>\n",
       "      <td>-0.066317</td>\n",
       "      <td>0.014664</td>\n",
       "      <td>-0.062883</td>\n",
       "      <td>0.038874</td>\n",
       "    </tr>\n",
       "    <tr>\n",
       "      <th>day</th>\n",
       "      <td>-0.000103</td>\n",
       "      <td>0.006901</td>\n",
       "      <td>1.000000</td>\n",
       "      <td>0.000327</td>\n",
       "      <td>0.082788</td>\n",
       "      <td>0.033537</td>\n",
       "      <td>0.022871</td>\n",
       "      <td>-0.010497</td>\n",
       "      <td>-0.004944</td>\n",
       "      <td>-0.037449</td>\n",
       "      <td>-0.000102</td>\n",
       "    </tr>\n",
       "    <tr>\n",
       "      <th>hour</th>\n",
       "      <td>0.000200</td>\n",
       "      <td>-0.000543</td>\n",
       "      <td>0.000327</td>\n",
       "      <td>1.000000</td>\n",
       "      <td>-0.023116</td>\n",
       "      <td>-0.021784</td>\n",
       "      <td>0.149443</td>\n",
       "      <td>-0.041831</td>\n",
       "      <td>0.058865</td>\n",
       "      <td>-0.002455</td>\n",
       "      <td>-0.008741</td>\n",
       "    </tr>\n",
       "    <tr>\n",
       "      <th>pm25</th>\n",
       "      <td>-0.014690</td>\n",
       "      <td>-0.024069</td>\n",
       "      <td>0.082788</td>\n",
       "      <td>-0.023116</td>\n",
       "      <td>1.000000</td>\n",
       "      <td>0.171423</td>\n",
       "      <td>-0.090534</td>\n",
       "      <td>-0.047282</td>\n",
       "      <td>-0.247784</td>\n",
       "      <td>0.019266</td>\n",
       "      <td>-0.051369</td>\n",
       "    </tr>\n",
       "    <tr>\n",
       "      <th>DEWP</th>\n",
       "      <td>0.007298</td>\n",
       "      <td>0.234492</td>\n",
       "      <td>0.033537</td>\n",
       "      <td>-0.021784</td>\n",
       "      <td>0.171423</td>\n",
       "      <td>1.000000</td>\n",
       "      <td>0.823821</td>\n",
       "      <td>-0.777722</td>\n",
       "      <td>-0.293106</td>\n",
       "      <td>-0.034925</td>\n",
       "      <td>0.125341</td>\n",
       "    </tr>\n",
       "    <tr>\n",
       "      <th>TEMP</th>\n",
       "      <td>0.055656</td>\n",
       "      <td>0.172135</td>\n",
       "      <td>0.022871</td>\n",
       "      <td>0.149443</td>\n",
       "      <td>-0.090534</td>\n",
       "      <td>0.823821</td>\n",
       "      <td>1.000000</td>\n",
       "      <td>-0.826903</td>\n",
       "      <td>-0.149613</td>\n",
       "      <td>-0.094785</td>\n",
       "      <td>0.049544</td>\n",
       "    </tr>\n",
       "    <tr>\n",
       "      <th>PRES</th>\n",
       "      <td>-0.013466</td>\n",
       "      <td>-0.066317</td>\n",
       "      <td>-0.010497</td>\n",
       "      <td>-0.041831</td>\n",
       "      <td>-0.047282</td>\n",
       "      <td>-0.777722</td>\n",
       "      <td>-0.826903</td>\n",
       "      <td>1.000000</td>\n",
       "      <td>0.178871</td>\n",
       "      <td>0.070537</td>\n",
       "      <td>-0.080532</td>\n",
       "    </tr>\n",
       "    <tr>\n",
       "      <th>Iws</th>\n",
       "      <td>-0.068278</td>\n",
       "      <td>0.014664</td>\n",
       "      <td>-0.004944</td>\n",
       "      <td>0.058865</td>\n",
       "      <td>-0.247784</td>\n",
       "      <td>-0.293106</td>\n",
       "      <td>-0.149613</td>\n",
       "      <td>0.178871</td>\n",
       "      <td>1.000000</td>\n",
       "      <td>0.022630</td>\n",
       "      <td>-0.009157</td>\n",
       "    </tr>\n",
       "    <tr>\n",
       "      <th>Is</th>\n",
       "      <td>-0.019549</td>\n",
       "      <td>-0.062883</td>\n",
       "      <td>-0.037449</td>\n",
       "      <td>-0.002455</td>\n",
       "      <td>0.019266</td>\n",
       "      <td>-0.034925</td>\n",
       "      <td>-0.094785</td>\n",
       "      <td>0.070537</td>\n",
       "      <td>0.022630</td>\n",
       "      <td>1.000000</td>\n",
       "      <td>-0.009764</td>\n",
       "    </tr>\n",
       "    <tr>\n",
       "      <th>Ir</th>\n",
       "      <td>-0.026298</td>\n",
       "      <td>0.038874</td>\n",
       "      <td>-0.000102</td>\n",
       "      <td>-0.008741</td>\n",
       "      <td>-0.051369</td>\n",
       "      <td>0.125341</td>\n",
       "      <td>0.049544</td>\n",
       "      <td>-0.080532</td>\n",
       "      <td>-0.009157</td>\n",
       "      <td>-0.009764</td>\n",
       "      <td>1.000000</td>\n",
       "    </tr>\n",
       "  </tbody>\n",
       "</table>\n",
       "</div>"
      ],
      "text/plain": [
       "           year     month       day      hour      pm25      DEWP      TEMP  \\\n",
       "year   1.000000 -0.002452 -0.000103  0.000200 -0.014690  0.007298  0.055656   \n",
       "month -0.002452  1.000000  0.006901 -0.000543 -0.024069  0.234492  0.172135   \n",
       "day   -0.000103  0.006901  1.000000  0.000327  0.082788  0.033537  0.022871   \n",
       "hour   0.000200 -0.000543  0.000327  1.000000 -0.023116 -0.021784  0.149443   \n",
       "pm25  -0.014690 -0.024069  0.082788 -0.023116  1.000000  0.171423 -0.090534   \n",
       "DEWP   0.007298  0.234492  0.033537 -0.021784  0.171423  1.000000  0.823821   \n",
       "TEMP   0.055656  0.172135  0.022871  0.149443 -0.090534  0.823821  1.000000   \n",
       "PRES  -0.013466 -0.066317 -0.010497 -0.041831 -0.047282 -0.777722 -0.826903   \n",
       "Iws   -0.068278  0.014664 -0.004944  0.058865 -0.247784 -0.293106 -0.149613   \n",
       "Is    -0.019549 -0.062883 -0.037449 -0.002455  0.019266 -0.034925 -0.094785   \n",
       "Ir    -0.026298  0.038874 -0.000102 -0.008741 -0.051369  0.125341  0.049544   \n",
       "\n",
       "           PRES       Iws        Is        Ir  \n",
       "year  -0.013466 -0.068278 -0.019549 -0.026298  \n",
       "month -0.066317  0.014664 -0.062883  0.038874  \n",
       "day   -0.010497 -0.004944 -0.037449 -0.000102  \n",
       "hour  -0.041831  0.058865 -0.002455 -0.008741  \n",
       "pm25  -0.047282 -0.247784  0.019266 -0.051369  \n",
       "DEWP  -0.777722 -0.293106 -0.034925  0.125341  \n",
       "TEMP  -0.826903 -0.149613 -0.094785  0.049544  \n",
       "PRES   1.000000  0.178871  0.070537 -0.080532  \n",
       "Iws    0.178871  1.000000  0.022630 -0.009157  \n",
       "Is     0.070537  0.022630  1.000000 -0.009764  \n",
       "Ir    -0.080532 -0.009157 -0.009764  1.000000  "
      ]
     },
     "execution_count": 143,
     "metadata": {},
     "output_type": "execute_result"
    }
   ],
   "source": [
    "data.corr()"
   ]
  },
  {
   "cell_type": "code",
   "execution_count": 144,
   "metadata": {},
   "outputs": [
    {
     "data": {
      "text/plain": [
       "Intercept    0.0\n",
       "Iws          0.0\n",
       "dtype: float64"
      ]
     },
     "execution_count": 144,
     "metadata": {},
     "output_type": "execute_result"
    }
   ],
   "source": [
    "# print the p-values for the model coefficients\n",
    "lm.pvalues"
   ]
  },
  {
   "cell_type": "code",
   "execution_count": 145,
   "metadata": {},
   "outputs": [
    {
     "data": {
      "text/plain": [
       "0.061397133248041968"
      ]
     },
     "execution_count": 145,
     "metadata": {},
     "output_type": "execute_result"
    }
   ],
   "source": [
    "# print the R-squared value for the model\n",
    "lm.rsquared"
   ]
  },
  {
   "cell_type": "code",
   "execution_count": 146,
   "metadata": {},
   "outputs": [
    {
     "data": {
      "text/plain": [
       "Intercept    3263.730645\n",
       "PRES           -3.065177\n",
       "Iws            -0.460017\n",
       "TEMP           -3.109338\n",
       "dtype: float64"
      ]
     },
     "execution_count": 146,
     "metadata": {},
     "output_type": "execute_result"
    }
   ],
   "source": [
    "\n",
    "# create a fitted model with all three features\n",
    "lm = smf.ols(formula='pm25 ~ PRES + Iws + TEMP', data=data).fit()\n",
    "\n",
    "# print the coefficients\n",
    "lm.params"
   ]
  },
  {
   "cell_type": "code",
   "execution_count": 147,
   "metadata": {},
   "outputs": [
    {
     "data": {
      "text/html": [
       "<table class=\"simpletable\">\n",
       "<caption>OLS Regression Results</caption>\n",
       "<tr>\n",
       "  <th>Dep. Variable:</th>          <td>pm25</td>       <th>  R-squared:         </th>  <td>   0.115</td>  \n",
       "</tr>\n",
       "<tr>\n",
       "  <th>Model:</th>                   <td>OLS</td>       <th>  Adj. R-squared:    </th>  <td>   0.115</td>  \n",
       "</tr>\n",
       "<tr>\n",
       "  <th>Method:</th>             <td>Least Squares</td>  <th>  F-statistic:       </th>  <td>   1807.</td>  \n",
       "</tr>\n",
       "<tr>\n",
       "  <th>Date:</th>             <td>Fri, 02 Mar 2018</td> <th>  Prob (F-statistic):</th>   <td>  0.00</td>   \n",
       "</tr>\n",
       "<tr>\n",
       "  <th>Time:</th>                 <td>21:42:24</td>     <th>  Log-Likelihood:    </th> <td>-2.4554e+05</td>\n",
       "</tr>\n",
       "<tr>\n",
       "  <th>No. Observations:</th>      <td> 41757</td>      <th>  AIC:               </th>  <td>4.911e+05</td> \n",
       "</tr>\n",
       "<tr>\n",
       "  <th>Df Residuals:</th>          <td> 41753</td>      <th>  BIC:               </th>  <td>4.911e+05</td> \n",
       "</tr>\n",
       "<tr>\n",
       "  <th>Df Model:</th>              <td>     3</td>      <th>                     </th>      <td> </td>     \n",
       "</tr>\n",
       "<tr>\n",
       "  <th>Covariance Type:</th>      <td>nonrobust</td>    <th>                     </th>      <td> </td>     \n",
       "</tr>\n",
       "</table>\n",
       "<table class=\"simpletable\">\n",
       "<tr>\n",
       "      <td></td>         <th>coef</th>     <th>std err</th>      <th>t</th>      <th>P>|t|</th>  <th>[0.025</th>    <th>0.975]</th>  \n",
       "</tr>\n",
       "<tr>\n",
       "  <th>Intercept</th> <td> 3263.7306</td> <td>   75.351</td> <td>   43.313</td> <td> 0.000</td> <td> 3116.040</td> <td> 3411.421</td>\n",
       "</tr>\n",
       "<tr>\n",
       "  <th>PRES</th>      <td>   -3.0652</td> <td>    0.074</td> <td>  -41.687</td> <td> 0.000</td> <td>   -3.209</td> <td>   -2.921</td>\n",
       "</tr>\n",
       "<tr>\n",
       "  <th>Iws</th>       <td>   -0.4600</td> <td>    0.009</td> <td>  -52.987</td> <td> 0.000</td> <td>   -0.477</td> <td>   -0.443</td>\n",
       "</tr>\n",
       "<tr>\n",
       "  <th>TEMP</th>      <td>   -3.1093</td> <td>    0.062</td> <td>  -50.230</td> <td> 0.000</td> <td>   -3.231</td> <td>   -2.988</td>\n",
       "</tr>\n",
       "</table>\n",
       "<table class=\"simpletable\">\n",
       "<tr>\n",
       "  <th>Omnibus:</th>       <td>14465.684</td> <th>  Durbin-Watson:     </th> <td>   0.087</td> \n",
       "</tr>\n",
       "<tr>\n",
       "  <th>Prob(Omnibus):</th>  <td> 0.000</td>   <th>  Jarque-Bera (JB):  </th> <td>57724.347</td>\n",
       "</tr>\n",
       "<tr>\n",
       "  <th>Skew:</th>           <td> 1.696</td>   <th>  Prob(JB):          </th> <td>    0.00</td> \n",
       "</tr>\n",
       "<tr>\n",
       "  <th>Kurtosis:</th>       <td> 7.655</td>   <th>  Cond. No.          </th> <td>1.81e+05</td> \n",
       "</tr>\n",
       "</table>"
      ],
      "text/plain": [
       "<class 'statsmodels.iolib.summary.Summary'>\n",
       "\"\"\"\n",
       "                            OLS Regression Results                            \n",
       "==============================================================================\n",
       "Dep. Variable:                   pm25   R-squared:                       0.115\n",
       "Model:                            OLS   Adj. R-squared:                  0.115\n",
       "Method:                 Least Squares   F-statistic:                     1807.\n",
       "Date:                Fri, 02 Mar 2018   Prob (F-statistic):               0.00\n",
       "Time:                        21:42:24   Log-Likelihood:            -2.4554e+05\n",
       "No. Observations:               41757   AIC:                         4.911e+05\n",
       "Df Residuals:                   41753   BIC:                         4.911e+05\n",
       "Df Model:                           3                                         \n",
       "Covariance Type:            nonrobust                                         \n",
       "==============================================================================\n",
       "                 coef    std err          t      P>|t|      [0.025      0.975]\n",
       "------------------------------------------------------------------------------\n",
       "Intercept   3263.7306     75.351     43.313      0.000    3116.040    3411.421\n",
       "PRES          -3.0652      0.074    -41.687      0.000      -3.209      -2.921\n",
       "Iws           -0.4600      0.009    -52.987      0.000      -0.477      -0.443\n",
       "TEMP          -3.1093      0.062    -50.230      0.000      -3.231      -2.988\n",
       "==============================================================================\n",
       "Omnibus:                    14465.684   Durbin-Watson:                   0.087\n",
       "Prob(Omnibus):                  0.000   Jarque-Bera (JB):            57724.347\n",
       "Skew:                           1.696   Prob(JB):                         0.00\n",
       "Kurtosis:                       7.655   Cond. No.                     1.81e+05\n",
       "==============================================================================\n",
       "\n",
       "Warnings:\n",
       "[1] Standard Errors assume that the covariance matrix of the errors is correctly specified.\n",
       "[2] The condition number is large, 1.81e+05. This might indicate that there are\n",
       "strong multicollinearity or other numerical problems.\n",
       "\"\"\""
      ]
     },
     "execution_count": 147,
     "metadata": {},
     "output_type": "execute_result"
    }
   ],
   "source": [
    "# print a summary of the fitted model\n",
    "lm.summary()"
   ]
  },
  {
   "cell_type": "code",
   "execution_count": 148,
   "metadata": {},
   "outputs": [
    {
     "data": {
      "text/plain": [
       "0.061397133248041968"
      ]
     },
     "execution_count": 148,
     "metadata": {},
     "output_type": "execute_result"
    }
   ],
   "source": [
    "# only include TV and Radio in the model\n",
    "lm = smf.ols(formula='pm25 ~  Iws', data=data).fit()\n",
    "lm.rsquared"
   ]
  },
  {
   "cell_type": "code",
   "execution_count": 149,
   "metadata": {},
   "outputs": [
    {
     "data": {
      "text/plain": [
       "0.20465227855405632"
      ]
     },
     "execution_count": 149,
     "metadata": {},
     "output_type": "execute_result"
    }
   ],
   "source": [
    "# add Newspaper to the model (which we believe has no association with Sales)\n",
    "lm = smf.ols(formula='pm25 ~ DEWP + TEMP + PRES', data=data).fit()\n",
    "lm.rsquared"
   ]
  },
  {
   "cell_type": "code",
   "execution_count": 150,
   "metadata": {},
   "outputs": [
    {
     "name": "stdout",
     "output_type": "stream",
     "text": [
      "1693.48495919\n",
      "[-6.18920344 -1.5014108   4.56090675]\n"
     ]
    }
   ],
   "source": [
    "# create X and y\n",
    "feature_cols = ['TEMP', 'PRES', 'DEWP']\n",
    "X = data[feature_cols]\n",
    "y = data.pm25\n",
    "\n",
    "# follow the usual sklearn pattern: import, instantiate, fit\n",
    "from sklearn.linear_model import LinearRegression\n",
    "lm = LinearRegression()\n",
    "lm.fit(X, y)\n",
    "\n",
    "# print intercept and coefficients\n",
    "print(lm.intercept_)\n",
    "print(lm.coef_)"
   ]
  },
  {
   "cell_type": "code",
   "execution_count": 151,
   "metadata": {},
   "outputs": [
    {
     "data": {
      "text/plain": [
       "[('TEMP', -6.1892034378628775),\n",
       " ('PRES', -1.5014107955268412),\n",
       " ('DEWP', 4.5609067497759677)]"
      ]
     },
     "execution_count": 151,
     "metadata": {},
     "output_type": "execute_result"
    }
   ],
   "source": [
    "# pair the feature names with the coefficients\n",
    "list(zip(feature_cols, lm.coef_))"
   ]
  },
  {
   "cell_type": "code",
   "execution_count": 152,
   "metadata": {},
   "outputs": [],
   "source": [
    "# predict for a new observation\n"
   ]
  },
  {
   "cell_type": "code",
   "execution_count": 153,
   "metadata": {},
   "outputs": [
    {
     "data": {
      "text/plain": [
       "0.20465227855405618"
      ]
     },
     "execution_count": 153,
     "metadata": {},
     "output_type": "execute_result"
    }
   ],
   "source": [
    "# calculate the R-squared\n",
    "lm.score(X, y)"
   ]
  },
  {
   "cell_type": "code",
   "execution_count": null,
   "metadata": {},
   "outputs": [],
   "source": []
  }
 ],
 "metadata": {
  "kernelspec": {
   "display_name": "Python 3",
   "language": "python",
   "name": "python3"
  },
  "language_info": {
   "codemirror_mode": {
    "name": "ipython",
    "version": 3
   },
   "file_extension": ".py",
   "mimetype": "text/x-python",
   "name": "python",
   "nbconvert_exporter": "python",
   "pygments_lexer": "ipython3",
   "version": "3.6.4"
  }
 },
 "nbformat": 4,
 "nbformat_minor": 2
}
