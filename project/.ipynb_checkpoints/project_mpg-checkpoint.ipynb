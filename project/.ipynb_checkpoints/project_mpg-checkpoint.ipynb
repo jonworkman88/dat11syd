{
 "cells": [
  {
   "cell_type": "code",
   "execution_count": 2,
   "metadata": {},
   "outputs": [],
   "source": [
    "import pandas as pd"
   ]
  },
  {
   "cell_type": "code",
   "execution_count": 12,
   "metadata": {},
   "outputs": [],
   "source": [
    "df = pd.read_csv('vehicles.csv', low_memory=False).dropna()"
   ]
  },
  {
   "cell_type": "code",
   "execution_count": 13,
   "metadata": {},
   "outputs": [
    {
     "data": {
      "text/html": [
       "<div>\n",
       "<style scoped>\n",
       "    .dataframe tbody tr th:only-of-type {\n",
       "        vertical-align: middle;\n",
       "    }\n",
       "\n",
       "    .dataframe tbody tr th {\n",
       "        vertical-align: top;\n",
       "    }\n",
       "\n",
       "    .dataframe thead th {\n",
       "        text-align: right;\n",
       "    }\n",
       "</style>\n",
       "<table border=\"1\" class=\"dataframe\">\n",
       "  <thead>\n",
       "    <tr style=\"text-align: right;\">\n",
       "      <th></th>\n",
       "      <th>barrels08</th>\n",
       "      <th>barrelsA08</th>\n",
       "      <th>charge120</th>\n",
       "      <th>charge240</th>\n",
       "      <th>city08</th>\n",
       "      <th>city08U</th>\n",
       "      <th>cityA08</th>\n",
       "      <th>cityA08U</th>\n",
       "      <th>cityCD</th>\n",
       "      <th>cityE</th>\n",
       "      <th>...</th>\n",
       "      <th>mfrCode</th>\n",
       "      <th>c240Dscr</th>\n",
       "      <th>charge240b</th>\n",
       "      <th>c240bDscr</th>\n",
       "      <th>createdOn</th>\n",
       "      <th>modifiedOn</th>\n",
       "      <th>startStop</th>\n",
       "      <th>phevCity</th>\n",
       "      <th>phevHwy</th>\n",
       "      <th>phevComb</th>\n",
       "    </tr>\n",
       "  </thead>\n",
       "  <tbody>\n",
       "  </tbody>\n",
       "</table>\n",
       "<p>0 rows × 83 columns</p>\n",
       "</div>"
      ],
      "text/plain": [
       "Empty DataFrame\n",
       "Columns: [barrels08, barrelsA08, charge120, charge240, city08, city08U, cityA08, cityA08U, cityCD, cityE, cityUF, co2, co2A, co2TailpipeAGpm, co2TailpipeGpm, comb08, comb08U, combA08, combA08U, combE, combinedCD, combinedUF, cylinders, displ, drive, engId, eng_dscr, feScore, fuelCost08, fuelCostA08, fuelType, fuelType1, ghgScore, ghgScoreA, highway08, highway08U, highwayA08, highwayA08U, highwayCD, highwayE, highwayUF, hlv, hpv, id, lv2, lv4, make, model, mpgData, phevBlended, pv2, pv4, range, rangeCity, rangeCityA, rangeHwy, rangeHwyA, trany, UCity, UCityA, UHighway, UHighwayA, VClass, year, youSaveSpend, guzzler, trans_dscr, tCharger, sCharger, atvType, fuelType2, rangeA, evMotor, mfrCode, c240Dscr, charge240b, c240bDscr, createdOn, modifiedOn, startStop, phevCity, phevHwy, phevComb]\n",
       "Index: []\n",
       "\n",
       "[0 rows x 83 columns]"
      ]
     },
     "execution_count": 13,
     "metadata": {},
     "output_type": "execute_result"
    }
   ],
   "source": [
    "df.head()"
   ]
  },
  {
   "cell_type": "code",
   "execution_count": 14,
   "metadata": {},
   "outputs": [
    {
     "data": {
      "text/plain": [
       "(0, 83)"
      ]
     },
     "execution_count": 14,
     "metadata": {},
     "output_type": "execute_result"
    }
   ],
   "source": [
    "df.shape"
   ]
  },
  {
   "cell_type": "code",
   "execution_count": 15,
   "metadata": {},
   "outputs": [
    {
     "data": {
      "text/plain": [
       "barrels08          0\n",
       "barrelsA08         0\n",
       "charge120          0\n",
       "charge240          0\n",
       "city08             0\n",
       "city08U            0\n",
       "cityA08            0\n",
       "cityA08U           0\n",
       "cityCD             0\n",
       "cityE              0\n",
       "cityUF             0\n",
       "co2                0\n",
       "co2A               0\n",
       "co2TailpipeAGpm    0\n",
       "co2TailpipeGpm     0\n",
       "comb08             0\n",
       "comb08U            0\n",
       "combA08            0\n",
       "combA08U           0\n",
       "combE              0\n",
       "combinedCD         0\n",
       "combinedUF         0\n",
       "cylinders          0\n",
       "displ              0\n",
       "drive              0\n",
       "engId              0\n",
       "eng_dscr           0\n",
       "feScore            0\n",
       "fuelCost08         0\n",
       "fuelCostA08        0\n",
       "                  ..\n",
       "rangeCity          0\n",
       "rangeCityA         0\n",
       "rangeHwy           0\n",
       "rangeHwyA          0\n",
       "trany              0\n",
       "UCity              0\n",
       "UCityA             0\n",
       "UHighway           0\n",
       "UHighwayA          0\n",
       "VClass             0\n",
       "year               0\n",
       "youSaveSpend       0\n",
       "guzzler            0\n",
       "trans_dscr         0\n",
       "tCharger           0\n",
       "sCharger           0\n",
       "atvType            0\n",
       "fuelType2          0\n",
       "rangeA             0\n",
       "evMotor            0\n",
       "mfrCode            0\n",
       "c240Dscr           0\n",
       "charge240b         0\n",
       "c240bDscr          0\n",
       "createdOn          0\n",
       "modifiedOn         0\n",
       "startStop          0\n",
       "phevCity           0\n",
       "phevHwy            0\n",
       "phevComb           0\n",
       "Length: 83, dtype: int64"
      ]
     },
     "execution_count": 15,
     "metadata": {},
     "output_type": "execute_result"
    }
   ],
   "source": [
    "df.isnull().sum()"
   ]
  },
  {
   "cell_type": "code",
   "execution_count": null,
   "metadata": {},
   "outputs": [],
   "source": []
  }
 ],
 "metadata": {
  "kernelspec": {
   "display_name": "Python 3",
   "language": "python",
   "name": "python3"
  },
  "language_info": {
   "codemirror_mode": {
    "name": "ipython",
    "version": 3
   },
   "file_extension": ".py",
   "mimetype": "text/x-python",
   "name": "python",
   "nbconvert_exporter": "python",
   "pygments_lexer": "ipython3",
   "version": "3.6.5"
  }
 },
 "nbformat": 4,
 "nbformat_minor": 2
}
